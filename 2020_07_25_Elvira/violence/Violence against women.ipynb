{
 "cells": [
  {
   "cell_type": "markdown",
   "metadata": {},
   "source": [
    "# ООН Женщины. Анализ "
   ]
  },
  {
   "cell_type": "markdown",
   "metadata": {},
   "source": [
    "## Анализ выборочного обследования по насилию в отношении женщин. Казахстан"
   ]
  },
  {
   "cell_type": "markdown",
   "metadata": {},
   "source": [
    "Здесь мои расчёты для [статьи](https://medium.com/@bjolko/%D1%87%D0%B5%D0%BC-%D0%BD%D0%B5%D0%B4%D0%BE%D0%B2%D0%BE%D0%BB%D1%8C%D0%BD%D1%8B-%D1%84%D0%B5%D0%BC%D0%B8%D0%BD%D0%B8%D1%81%D1%82%D0%BA%D0%B8-%D0%B2-%D0%BA%D0%B0%D0%B7%D0%B0%D1%85%D1%81%D1%82%D0%B0%D0%BD%D0%B5-%D1%87%D0%B0%D1%81%D1%82%D1%8C-1-490a521d2f7).\n",
    "\n",
    "**Содержание**\n",
    "1. Импорт данных из .docx формата\n",
    "2. Предобработка\n",
    "3. Графики"
   ]
  },
  {
   "cell_type": "markdown",
   "metadata": {},
   "source": [
    "## Настройки и подгрузка библиотек"
   ]
  },
  {
   "cell_type": "code",
   "execution_count": 1,
   "metadata": {},
   "outputs": [],
   "source": [
    "options(warn = -1, repr.plot.height = 6, repr.plot.width = 9)"
   ]
  },
  {
   "cell_type": "code",
   "execution_count": 16,
   "metadata": {},
   "outputs": [],
   "source": [
    "library(dplyr)\n",
    "library(stringr)\n",
    "library(docxtractr)\n",
    "library(tibble)\n",
    "library(ggplot2)\n",
    "library(openxlsx)"
   ]
  },
  {
   "cell_type": "markdown",
   "metadata": {},
   "source": [
    "## Импорт данных"
   ]
  },
  {
   "cell_type": "markdown",
   "metadata": {},
   "source": [
    "Исследование в pdf формате, но он плохо считался. Поэтому через MS Word я конвертировала pdf в docx и работала уже с ним. Из-за конвертации много таблиц слетело, пришлось делать много ручной предобработки. "
   ]
  },
  {
   "cell_type": "code",
   "execution_count": 3,
   "metadata": {},
   "outputs": [],
   "source": [
    "# Словари для названий колонок и строк с описанием данных\n",
    "\n",
    "regions <- c('Акмолинская','Актюбинская','Алматинская','Атырауская','ЗКО','Жамбылская',\n",
    "             'Карагандинская','Костанайская','Кызылординская','Мангистауская','ЮКО',\n",
    "             'Павлодарская','СКО','ВКО','г. Астана','г. Алматы')\n",
    "\n",
    "cols_abuse_type <- c('abuse_type', 'cnt', 'share', 'ci_95', 'country_share')\n",
    "\n",
    "cols_abuse_dem <- c('dem_group', 'all_cnt', 'all_share', 'now_cnt', 'now_share', 'country_share')\n",
    "\n",
    "cols_control <- c('control_type', 'all_cnt', 'all_share', 'now_cnt', 'now_share', 'nothing', 'country_share')\n",
    "\n",
    "cols_other <- c('abuse_type', 'cnt', 'share', 'country_share')\n",
    "\n",
    "rows_abuse_type <- c('Физическое насилие',\n",
    "                     'В течение жизни',\n",
    "                     'В настоящее время (последние 12 месяцев)',\n",
    "                     'Сексуальное насилие',\n",
    "                     'В течение жизни',\n",
    "                     'В настоящее время (последние 12 месяцев)',\n",
    "                     'Физическое и/или сексуальное насилие**',\n",
    "                     'В течение жизни',\n",
    "                     'В настоящее время (последние 12 месяцев)',\n",
    "                     'Психологическое насилие',\n",
    "                     'В течение жизни',\n",
    "                     'В настоящее время (последние 12 месяцев)',\n",
    "                     'Экономическое насилие',\n",
    "                     'В течение жизни',\n",
    "                     'В настоящее время (последние 12 месяцев)',\n",
    "                     'Всего женщин, имевших когда-либо партнера')\n",
    "\n",
    "rows_abuse_dem <- c('Возрастная группа',\n",
    "                    '18-24 лет',\n",
    "                    '25-29 лет',\n",
    "                    '30-39 лет',\n",
    "                    '40-49 лет',\n",
    "                    '50-59 лет',\n",
    "                    '60-75 лет',\n",
    "                    'Тип местности',\n",
    "                    'Город',\n",
    "                    'Село',\n",
    "                    'Образование',\n",
    "                    'Начальное/неполное среднее',\n",
    "                    'Среднее',\n",
    "                    'Техническое/профессиональное',\n",
    "                    'Высшее/аспирантура',\n",
    "                    'Размер домохозяйства ',\n",
    "                    '1 человек',\n",
    "                    '2-3 человека',\n",
    "                    '4-5 человек',\n",
    "                    '6+ человек',\n",
    "                    'Статус экономической активности ',\n",
    "                    'Не работает',\n",
    "                    'Работает',\n",
    "                    'Среднемесячный доход домохозяйства (в тенге) ',\n",
    "                    'До 40 000',\n",
    "                    '40 000 - 60 000',\n",
    "                    '60 001 - 100 000',\n",
    "                    '100 001 - 140 000',\n",
    "                    '140 001 - 200 000',\n",
    "                    'Свыше 200 000',\n",
    "                    'Среднемесячный доход на душу населения по квинтильным группам (в тенге)',\n",
    "                    'До 15 999',\n",
    "                    '16 000 - 24 999',\n",
    "                    '25 000 - 39 999',\n",
    "                    '40 000 - 49 999',\n",
    "                    'Свыше 50 000')\n",
    "\n",
    "rows_control <- c('Не разрешает видеться с друзьями',\n",
    "                  'Ограничивает общение с семьей',\n",
    "                  'Настаивает на том, чтобы знать о ее местонахождении',\n",
    "                  'Игнорирует и относится с равнодушием',\n",
    "                  'Злится, если заговорит с посторонними мужчинами',\n",
    "                  'Подозревает в неверности',\n",
    "                  'Ожидает, что будет отпрашиваться у него в больницу',\n",
    "                  'Навязывает религиозные убеждения',\n",
    "                  'Хотя бы 1 из вышеуказанного',\n",
    "                  'Хотя бы 3 из вышеуказанного',\n",
    "                  'Всего женщин, имевших когда-либо партнеров')\n",
    "\n",
    "rows_other <- c('Экономическое',\n",
    "                'Психологическое',\n",
    "                'Физическое',\n",
    "                'Изнасилование',\n",
    "                'Попытка изнасилования или иное сексуальное насилие',\n",
    "                'Любое сексуальное насилие',\n",
    "                'Всего женщин')"
   ]
  },
  {
   "cell_type": "code",
   "execution_count": 4,
   "metadata": {},
   "outputs": [],
   "source": [
    "# Импорт данных из docx\n",
    "\n",
    "location_2 <- 'ООН Женщины. Насилие в отношении женщин-Приложение.docx'\n",
    "\n",
    "doc <- read_docx(location_2)\n",
    "\n",
    "all_tables <- docx_tbl_count(doc)"
   ]
  },
  {
   "cell_type": "code",
   "execution_count": 5,
   "metadata": {},
   "outputs": [],
   "source": [
    "find_tables <- function(keyword, vector_name = c()) {\n",
    "    \n",
    "    ### Поиск номеров таблиц в файле doc по названию заголовка таблицы\n",
    "    \n",
    "    for (i in 20:all_tables) {\n",
    "        if (str_detect(colnames(docx_extract_tbl(doc, i))[1], keyword)) {\n",
    "            vector_name <- c(vector_name, i)\n",
    "        }\n",
    "        i = i + 1\n",
    "    }\n",
    "    vector_name\n",
    "}"
   ]
  },
  {
   "cell_type": "code",
   "execution_count": 6,
   "metadata": {},
   "outputs": [],
   "source": [
    "# Номера таблиц с информацией о типах испытанного насилия\n",
    "\n",
    "abuse_type_i <- find_tables('аспространенность.насилия')\n",
    "\n",
    "abuse_type_1 <- abuse_type_i[c(TRUE, FALSE)] # Насилие со стороны партнера\n",
    "\n",
    "abuse_type_2 <- abuse_type_i[c(FALSE, TRUE)] # Насилие со стороны других людей\n",
    "\n",
    "# Соц-демографические данные опрашиваемых\n",
    "\n",
    "abuse_dem_i <- find_tables('Насилие.со.стороны.') \n",
    "\n",
    "# Статистика по типам контролирующего поведения\n",
    "\n",
    "abuse_control_i <- find_tables('Контролирующее.поведение.') "
   ]
  },
  {
   "cell_type": "code",
   "execution_count": 7,
   "metadata": {},
   "outputs": [],
   "source": [
    "make_empty_df  <- function(columns) {\n",
    "    \n",
    "    ### Создание пустых датафреймов с названными колонками\n",
    "    \n",
    "    read.csv(text = paste0('region, ', columns, 'metric, value'), stringsAsFactors = F)\n",
    "}"
   ]
  },
  {
   "cell_type": "code",
   "execution_count": 8,
   "metadata": {},
   "outputs": [],
   "source": [
    "# Пустые датафреймы для заполнения\n",
    "\n",
    "df_abuse_type <- make_empty_df('question, abuse_type, ')\n",
    "\n",
    "df_abuse_dem <- make_empty_df('question, dem_group, ')\n",
    "\n",
    "df_abuse_control <- make_empty_df('control_type')\n",
    "\n",
    "df_abuse_other <- make_empty_df('control_type')"
   ]
  },
  {
   "cell_type": "code",
   "execution_count": 9,
   "metadata": {},
   "outputs": [],
   "source": [
    "# Заполнение таблиц\n",
    "\n",
    "i <- 0\n",
    "\n",
    "for (region_name in regions) {\n",
    "  \n",
    "  i = i + 1\n",
    "  \n",
    "  #print(region_name)\n",
    "  \n",
    "  #print('Типы насилия со стороны интимного партнера')\n",
    "  \n",
    "  tmp <- # Заполнение df_abuse_type, насилие со стороны интимного партнёра\n",
    "      docx_extract_tbl(doc, abuse_type_1[i]) %>% \n",
    "      setNames(cols_abuse_type) %>% \n",
    "      tail(length(rows_abuse_type)) %>% \n",
    "      na_if('') %>% \n",
    "      mutate(abuse_type = rows_abuse_type,\n",
    "             question = ifelse(is.na(cnt), abuse_type, NA)) %>% \n",
    "      tidyr::fill(question) %>% \n",
    "      select(question, everything()) %>% \n",
    "      filter(!is.na(cnt), !str_detect(abuse_type,'Всего женщин')) %>% \n",
    "      select(-ci_95) %>% \n",
    "      tidyr::gather('metric', 'value', -question, -abuse_type) %>% \n",
    "      mutate(value = as.numeric(str_replace(value, ',', '.')),\n",
    "             region = region_name) %>% \n",
    "      select(region, everything())\n",
    "    \n",
    "    df_abuse_type <- rbind(df_abuse_type, tmp)\n",
    "  \n",
    "  #print('Насилие по соц-дем')\n",
    "  \n",
    "  # Заполнение df_abuse_dem, соц-дем характеристики\n",
    "  # Модифицируем rows_abuse_dem для Астаны и Алматы, где нет разделения на город / село\n",
    "  if (i %in% 15:16) {\n",
    "    rows_abuse_dem_tmp <- rows_abuse_dem[!str_detect(rows_abuse_dem, 'Тип местности|Город|Село')]\n",
    "  } else {\n",
    "    rows_abuse_dem_tmp <- rows_abuse_dem\n",
    "  }\n",
    "  \n",
    "  tmp <- \n",
    "    docx_extract_tbl(doc, abuse_dem_i[i]) %>% \n",
    "    setNames(cols_abuse_dem) %>% \n",
    "    tail(ifelse(i %in% c(15,16), length(rows_abuse_dem)-3, length(rows_abuse_dem))) %>% \n",
    "    na_if('') %>% \n",
    "    mutate(dem_group = rows_abuse_dem_tmp,\n",
    "           question = ifelse(is.na(all_cnt), dem_group, NA)) %>% \n",
    "    tidyr::fill(question) %>% \n",
    "    select(question, everything()) %>% \n",
    "    filter(!is.na(all_cnt), !str_detect(dem_group,'Всего женщин')) %>% \n",
    "    tidyr::gather('metric', 'value', -question, -dem_group) %>% \n",
    "    mutate(value = as.numeric(str_replace(value, ',', '.')),\n",
    "           region = region_name) %>% \n",
    "    select(region, everything())\n",
    "    \n",
    "    df_abuse_dem <- rbind(df_abuse_dem, tmp)\n",
    "    \n",
    "  #print('Контролирующее поведение')\n",
    "    \n",
    "  # Заполнение df_abuse_control, контролирующее поведение\n",
    "  # Модифицируем cols_control, в некоторых таблицах подгрузились пустые колонки\n",
    "    if (ncol(docx_extract_tbl(doc, abuse_control_i[i])) == length(cols_control)) {\n",
    "    cols_control_tmp <- cols_control\n",
    "  } else {\n",
    "    cols_control_tmp <- cols_control[!str_detect(cols_control, 'nothing')]\n",
    "  }\n",
    "  \n",
    "  tmp <- \n",
    "    docx_extract_tbl(doc, abuse_control_i[i]) %>% \n",
    "    setNames(cols_control_tmp) %>% \n",
    "    tail(length(rows_control)) %>% \n",
    "    na_if('') %>% \n",
    "    mutate(control_type = rows_control) %>%\n",
    "    select(-matches('nothing')) %>% \n",
    "    filter(!str_detect(control_type,'Всего женщин')) %>% \n",
    "    tidyr::gather('metric', 'value', -control_type) %>% \n",
    "    mutate(value = as.numeric(str_replace(value, ',', '.')),\n",
    "           region = region_name) %>% \n",
    "    select(region, everything())\n",
    "  \n",
    "  df_abuse_control <- rbind(df_abuse_control, tmp)\n",
    "  \n",
    "  #print('Насилие со стороны других людей')\n",
    "    \n",
    "  # Заполнение df_abuse_other, насилие со стороны других людей\n",
    "  # Модифицируем cols_other, в некоторых таблицах подгрузились пустые колонки\n",
    "    \n",
    "  if (ncol(docx_extract_tbl(doc, abuse_type_2[i])) == length(cols_other)) {\n",
    "    cols_other_tmp <- cols_other\n",
    "  } else {\n",
    "    cols_other_tmp <- c(cols_other[1:2], 'nothing', cols_other[3:4])\n",
    "  }\n",
    "  \n",
    "  tmp <- \n",
    "    docx_extract_tbl(doc, abuse_type_2[i]) %>% \n",
    "    setNames(cols_other_tmp) %>% \n",
    "    select(-matches('nothing')) %>% \n",
    "    tail(length(rows_other)) %>% \n",
    "    na_if('') %>% \n",
    "    mutate(abuse_type = rows_other) %>% \n",
    "    filter(!str_detect(abuse_type,'Всего женщин')) %>% \n",
    "    tidyr::gather('metric', 'value', -abuse_type) %>% \n",
    "    mutate(value = as.numeric(str_replace(value, ',', '.')),\n",
    "           region = region_name) %>% \n",
    "    select(region, everything())\n",
    "  \n",
    "  df_abuse_other <- rbind(df_abuse_other, tmp)\n",
    "    \n",
    "}\n"
   ]
  },
  {
   "cell_type": "code",
   "execution_count": 10,
   "metadata": {},
   "outputs": [
    {
     "name": "stderr",
     "output_type": "stream",
     "text": [
      "NOTE: header=FALSE but table has a marked header row in the Word document\n",
      "NOTE: header=FALSE but table has a marked header row in the Word document\n"
     ]
    },
    {
     "data": {
      "text/html": [
       "<table>\n",
       "<caption>A data.frame: 16 × 3</caption>\n",
       "<thead>\n",
       "\t<tr><th scope=col>region</th><th scope=col>had_partner</th><th scope=col>all_women</th></tr>\n",
       "\t<tr><th scope=col>&lt;chr&gt;</th><th scope=col>&lt;dbl&gt;</th><th scope=col>&lt;dbl&gt;</th></tr>\n",
       "</thead>\n",
       "<tbody>\n",
       "\t<tr><td>Акмолинская   </td><td>802</td><td>913</td></tr>\n",
       "\t<tr><td>Актюбинская   </td><td>829</td><td>926</td></tr>\n",
       "\t<tr><td>Алматинская   </td><td>775</td><td>873</td></tr>\n",
       "\t<tr><td>Атырауская    </td><td>781</td><td>928</td></tr>\n",
       "\t<tr><td>ЗКО           </td><td>867</td><td>939</td></tr>\n",
       "\t<tr><td>Жамбылская    </td><td>809</td><td>916</td></tr>\n",
       "\t<tr><td>Карагандинская</td><td>793</td><td>895</td></tr>\n",
       "\t<tr><td>Костанайская  </td><td>881</td><td>914</td></tr>\n",
       "\t<tr><td>Кызылординская</td><td>772</td><td>879</td></tr>\n",
       "\t<tr><td>Мангистауская </td><td>780</td><td>905</td></tr>\n",
       "\t<tr><td>ЮКО           </td><td>813</td><td>896</td></tr>\n",
       "\t<tr><td>Павлодарская  </td><td>869</td><td>923</td></tr>\n",
       "\t<tr><td>СКО           </td><td>892</td><td>921</td></tr>\n",
       "\t<tr><td>ВКО           </td><td>806</td><td>902</td></tr>\n",
       "\t<tr><td>г. Астана     </td><td>512</td><td>723</td></tr>\n",
       "\t<tr><td>г. Алматы     </td><td>702</td><td>887</td></tr>\n",
       "</tbody>\n",
       "</table>\n"
      ],
      "text/latex": [
       "A data.frame: 16 × 3\n",
       "\\begin{tabular}{r|lll}\n",
       " region & had\\_partner & all\\_women\\\\\n",
       " <chr> & <dbl> & <dbl>\\\\\n",
       "\\hline\n",
       "\t Акмолинская    & 802 & 913\\\\\n",
       "\t Актюбинская    & 829 & 926\\\\\n",
       "\t Алматинская    & 775 & 873\\\\\n",
       "\t Атырауская     & 781 & 928\\\\\n",
       "\t ЗКО            & 867 & 939\\\\\n",
       "\t Жамбылская     & 809 & 916\\\\\n",
       "\t Карагандинская & 793 & 895\\\\\n",
       "\t Костанайская   & 881 & 914\\\\\n",
       "\t Кызылординская & 772 & 879\\\\\n",
       "\t Мангистауская  & 780 & 905\\\\\n",
       "\t ЮКО            & 813 & 896\\\\\n",
       "\t Павлодарская   & 869 & 923\\\\\n",
       "\t СКО            & 892 & 921\\\\\n",
       "\t ВКО            & 806 & 902\\\\\n",
       "\t г. Астана      & 512 & 723\\\\\n",
       "\t г. Алматы      & 702 & 887\\\\\n",
       "\\end{tabular}\n"
      ],
      "text/markdown": [
       "\n",
       "A data.frame: 16 × 3\n",
       "\n",
       "| region &lt;chr&gt; | had_partner &lt;dbl&gt; | all_women &lt;dbl&gt; |\n",
       "|---|---|---|\n",
       "| Акмолинская    | 802 | 913 |\n",
       "| Актюбинская    | 829 | 926 |\n",
       "| Алматинская    | 775 | 873 |\n",
       "| Атырауская     | 781 | 928 |\n",
       "| ЗКО            | 867 | 939 |\n",
       "| Жамбылская     | 809 | 916 |\n",
       "| Карагандинская | 793 | 895 |\n",
       "| Костанайская   | 881 | 914 |\n",
       "| Кызылординская | 772 | 879 |\n",
       "| Мангистауская  | 780 | 905 |\n",
       "| ЮКО            | 813 | 896 |\n",
       "| Павлодарская   | 869 | 923 |\n",
       "| СКО            | 892 | 921 |\n",
       "| ВКО            | 806 | 902 |\n",
       "| г. Астана      | 512 | 723 |\n",
       "| г. Алматы      | 702 | 887 |\n",
       "\n"
      ],
      "text/plain": [
       "   region         had_partner all_women\n",
       "1  Акмолинская    802         913      \n",
       "2  Актюбинская    829         926      \n",
       "3  Алматинская    775         873      \n",
       "4  Атырауская     781         928      \n",
       "5  ЗКО            867         939      \n",
       "6  Жамбылская     809         916      \n",
       "7  Карагандинская 793         895      \n",
       "8  Костанайская   881         914      \n",
       "9  Кызылординская 772         879      \n",
       "10 Мангистауская  780         905      \n",
       "11 ЮКО            813         896      \n",
       "12 Павлодарская   869         923      \n",
       "13 СКО            892         921      \n",
       "14 ВКО            806         902      \n",
       "15 г. Астана      512         723      \n",
       "16 г. Алматы      702         887      "
      ]
     },
     "metadata": {},
     "output_type": "display_data"
    }
   ],
   "source": [
    "# Количество опрошенных по регионам\n",
    "\n",
    "total_cnt <- function(df_num) {\n",
    "    \n",
    "  ### Считаем данные по количеству опрошенных и тех, у кого был партнер\n",
    "    \n",
    "  docx_extract_tbl(doc, df_num, header = F) %>% \n",
    "    select(1) %>% \n",
    "    slice(3) %>% \n",
    "    pull(V1) %>% \n",
    "    str_split(\"\\\\)\", simplify = T) %>% \n",
    "    gsub('[^[:digit:]]', '', .) %>% \n",
    "    as.numeric() %>% \n",
    "    .[1:length(regions)]\n",
    "}\n",
    "\n",
    "total_cnt_regions <- data.frame(region = regions,\n",
    "                                had_partner = total_cnt(14),\n",
    "                                all_women = total_cnt(16),\n",
    "                                stringsAsFactors = F)\n",
    "\n",
    "total_cnt_regions"
   ]
  },
  {
   "cell_type": "markdown",
   "metadata": {},
   "source": [
    "## Анализ"
   ]
  },
  {
   "cell_type": "code",
   "execution_count": 11,
   "metadata": {},
   "outputs": [],
   "source": [
    "# Готовим таблицу для EDA, убираем оценочные метрики на душу населения\n",
    "eda_dem <- \n",
    "  df_abuse_dem %>% \n",
    "  filter(metric == 'now_share', !str_detect(question, 'на душу'))\n",
    "\n",
    "# Уникальные значения групп населения\n",
    "dem_groups <- \n",
    "  eda_dem %>% \n",
    "  filter(region == 'Акмолинская') %>% \n",
    "  pull(dem_group)\n",
    "\n",
    "# Сокращенные названия групп для визуализации\n",
    "dg_labels <-\n",
    "  str_replace(dem_groups, ' лет', '') %>% \n",
    "  str_replace_all(., 'человека|человек', '') %>% \n",
    "  str_replace_all(., ' 000| 001', '') %>% \n",
    "  str_replace_all(., '/', '/\\n')\n",
    "\n",
    "eda_dem$dg_factor <- factor(eda_dem$dem_group, levels = dem_groups, labels = dg_labels)"
   ]
  },
  {
   "cell_type": "code",
   "execution_count": 12,
   "metadata": {},
   "outputs": [],
   "source": [
    "# Тема для графиков\n",
    "viz_theme  <- \n",
    "    theme(axis.ticks.x = element_blank(),\n",
    "        axis.ticks.y = element_blank(),\n",
    "        panel.background = element_rect(fill = '#FFFCED', colour = NA),\n",
    "        panel.grid.major.y = element_line(size = 0.5, linetype = 'dotted',\n",
    "                                        colour = '#E4DAA1'),\n",
    "        panel.grid.major.x = element_blank(),\n",
    "        panel.grid.minor = element_blank(),\n",
    "        strip.background = element_rect(color = NA, fill = '#FFFCED'),\n",
    "        strip.text = element_text(hjust = 0.030, size = 12, face = 'bold'),\n",
    "        plot.title = element_text(face = \"bold\", size = 20, margin = margin(b = 10), hjust = 0.030),\n",
    "        plot.subtitle = element_text(face = \"italic\", size = 10, margin = margin(b = 10), hjust = 0.020),\n",
    "        plot.caption = element_text(size = 8),\n",
    "        plot.background = element_rect(fill = '#FFFCED'))"
   ]
  },
  {
   "cell_type": "code",
   "execution_count": 13,
   "metadata": {
    "scrolled": false
   },
   "outputs": [
    {
     "data": {
      "image/png": "[encoded data removed]",
      "text/plain": [
       "plot without title"
      ]
     },
     "metadata": {},
     "output_type": "display_data"
    }
   ],
   "source": [
    "# Соц-дем распределение\n",
    "eda_dem %>% \n",
    "  mutate(question = recode(str_trim(question),\n",
    "                           'Среднемесячный доход домохозяйства (в тенге)' = 'Доход домохозяйства в месяц, тыс.тг',\n",
    "                           'Размер домохозяйства' = 'Размер домохозяйства, чел.',\n",
    "                           'Статус экономической активности' = 'Занятость',\n",
    "                           'Тип местности' = 'Местность',\n",
    "                           .default = str_trim(question)),\n",
    "         question = ordered(question, levels = c('Возрастная группа', 'Образование',\n",
    "                                                 'Доход домохозяйства в месяц, тыс.тг',\n",
    "                                                 'Размер домохозяйства, чел.',\n",
    "                                                 'Доход домохозяйства\\nв месяц, тыс.тг',\n",
    "                                                 'Занятость',\n",
    "                                                 'Местность')),\n",
    "         value = value / 100) %>% \n",
    "  ggplot(aes(x = dg_factor, y = value)) +\n",
    "  geom_boxplot(fill = '#BD9CB8') +\n",
    "  scale_y_continuous(labels = scales::percent_format(accuracy = 1), limits = c(0, .2)) +\n",
    "  facet_wrap(.~question, ncol = 2, scale = 'free_x') +\n",
    "  labs(x = '', y = '', title = 'Социально-демографические показатели',\n",
    "       caption = 'Выборочное обследование по насилию в отношении женщин\\nКазахстан. Астана, 2017',\n",
    "       subtitle = 'Распространенность физического и/или сексуального насилия\\nсо стороны интимного партнера за последний год') +\n",
    "  viz_theme"
   ]
  },
  {
   "cell_type": "code",
   "execution_count": 14,
   "metadata": {
    "scrolled": false
   },
   "outputs": [
    {
     "data": {
      "image/png": "[encoded data removed]",
      "text/plain": [
       "plot without title"
      ]
     },
     "metadata": {},
     "output_type": "display_data"
    }
   ],
   "source": [
    "# Сравнение город-село\n",
    "eda_dem %>% \n",
    "  mutate(value = value/100,\n",
    "         tooltip = paste0('Область: ', region, '\\nМестность: ', dem_group, '\\nДоля: ', scales::percent(value, 1))) %>% \n",
    "  filter(question == 'Тип местности') %>%\n",
    "  mutate(value = ifelse(dem_group == 'Город', value, -value),\n",
    "         region = forcats::fct_rev(region)) %>% \n",
    "  ggplot(aes(x = region, y = value, fill = dem_group, text = tooltip)) +   # Fill column\n",
    "  geom_bar(stat = \"identity\", width = .6, col = '#FFFCED') +  \n",
    "  scale_y_continuous(breaks =  seq(-0.4, 0.4, 0.02),\n",
    "                     labels = scales::percent(c(seq(0.4, 0, -0.02), seq(0.02, 0.4, 0.02)), 2)) +\n",
    "  scale_fill_manual(values = c('#A17199', '#7BAE84')) +\n",
    "  coord_flip() +\n",
    "  labs(y = '', x = '', fill = '', title = 'Тип местности в регионах',\n",
    "       caption = 'Выборочное обследование по насилию в отношении женщин\\nКазахстан. Астана, 2017',\n",
    "       subtitle = 'Распространенность физического и/или сексуального насилия\\nсо стороны интимного партнера за последний год по типу местности') +\n",
    "  guides(fill = guide_legend(reverse = TRUE)) +\n",
    "  theme(legend.position = 'top') +\n",
    "  viz_theme +\n",
    "  theme(legend.background = element_rect(fill = 'transparent'),\n",
    "        panel.grid.major.x = element_line(size = 1, linetype = 'dotted', colour = '#E4DAA1'),\n",
    "        panel.grid.major.y = element_blank())"
   ]
  },
  {
   "cell_type": "code",
   "execution_count": 15,
   "metadata": {},
   "outputs": [
    {
     "data": {
      "image/png": "[encoded data removed]",
      "text/plain": [
       "plot without title"
      ]
     },
     "metadata": {},
     "output_type": "display_data"
    }
   ],
   "source": [
    "# Сравнение регионов\n",
    "regions_comparison <- \n",
    "  df_abuse_dem %>% \n",
    "  filter(question == 'Возрастная группа', metric == 'all_cnt') %>% \n",
    "  group_by(region) %>% \n",
    "  summarise(abused = sum(value)) %>% \n",
    "  left_join(total_cnt_regions, by = 'region') %>% \n",
    "  mutate(abused_share = abused/had_partner) %>% \n",
    "  tidyr::gather(metric, value, -region)\n",
    "  \n",
    "regions_comparison %>% \n",
    "  filter(metric == 'abused_share') %>% \n",
    "  ggplot(aes(x = forcats::fct_reorder(region, value), y = value)) +\n",
    "  geom_bar(stat = 'identity', fill = '#53935E', width = .7) +\n",
    "  labs(x = '', y = '', title = 'Ситуация в регионах',\n",
    "       caption = 'Выборочное обследование по насилию в отношении женщин\\nКазахстан. Астана, 2017',\n",
    "       subtitle = 'Распространенность физического и/или сексуального насилия\\nсо стороны интимного партнера в течение жизни по регионам') +\n",
    "  scale_y_continuous(labels = scales::percent_format(accuracy = 1)) +\n",
    "  coord_flip() +\n",
    "  viz_theme +\n",
    "  theme(panel.grid.major.x = element_line(size = 1, linetype = 'dotted', colour = '#E4DAA1'),\n",
    "        panel.grid.major.y = element_blank())"
   ]
  }
 ],
 "metadata": {
  "kernelspec": {
   "display_name": "R",
   "language": "R",
   "name": "ir"
  },
  "language_info": {
   "codemirror_mode": "r",
   "file_extension": ".r",
   "mimetype": "text/x-r-source",
   "name": "R",
   "pygments_lexer": "r",
   "version": "3.5.1"
  }
 },
 "nbformat": 4,
 "nbformat_minor": 2
}
