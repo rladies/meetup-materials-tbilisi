{
 "cells": [
  {
   "cell_type": "markdown",
   "metadata": {},
   "source": [
    "# Анализ по средней ЗП"
   ]
  },
  {
   "cell_type": "markdown",
   "metadata": {},
   "source": [
    "Здесь мои расчёты для [статьи](https://medium.com/@bjolko/%D0%BF%D1%80%D0%BE%D0%B4%D0%BE%D0%BB%D0%B6%D0%B5%D0%BD%D0%B8%D0%B5-%D0%BF%D1%80%D0%B5%D0%B4%D1%8B%D0%B4%D1%83%D1%89%D0%B5%D0%B9-%D1%81%D1%82%D0%B0%D1%82%D1%8C%D0%B8-%D1%81%D0%B5%D0%B3%D0%BE%D0%B4%D0%BD%D1%8F-%D0%BF%D0%BE%D1%81%D0%BC%D0%BE%D1%82%D1%80%D0%B8%D0%BC-%D0%BD%D0%B0-%D1%80%D0%B0%D0%B7%D0%BB%D0%B8%D1%87%D0%B8%D1%8F-%D0%B2-%D0%B7%D0%B0%D1%80%D0%BF%D0%BB%D0%B0%D1%82%D0%B0%D1%85-eba9ec985ce5).\n",
    "\n",
    "**Содержание**\n",
    "1. Импорт данных из .docx формата\n",
    "2. Предобработка и графики"
   ]
  },
  {
   "cell_type": "markdown",
   "metadata": {},
   "source": [
    "## Настройки и подгрузка библиотек"
   ]
  },
  {
   "cell_type": "code",
   "execution_count": 1,
   "metadata": {},
   "outputs": [],
   "source": [
    "options(warn = -1, repr.plot.height = 6, repr.plot.width = 9, scipen = 999)"
   ]
  },
  {
   "cell_type": "code",
   "execution_count": 16,
   "metadata": {},
   "outputs": [],
   "source": [
    "library(dplyr)\n",
    "library(stringr)\n",
    "library(docxtractr)\n",
    "library(ggplot2)\n",
    "library(openxlsx)\n",
    "library(qdap)\n",
    "library(magick)\n",
    "library(waffle)\n",
    "library(extrafont)"
   ]
  },
  {
   "cell_type": "code",
   "execution_count": 3,
   "metadata": {},
   "outputs": [],
   "source": [
    "k_formatter <- function(x){\n",
    "    \n",
    "    ### Преобразует числа в формат K\n",
    "    \n",
    "    paste0(format(round(x/1000), big.mark = ' '), 'K')\n",
    "} \n",
    "\n",
    "salary_to_num <- function(x) {\n",
    "    \n",
    "  ### Преобразует текстовые данные в числовые\n",
    "    \n",
    "  as.numeric(str_replace_all(x, '[[:space:]]', ''))\n",
    "}"
   ]
  },
  {
   "cell_type": "markdown",
   "metadata": {},
   "source": [
    "## Импорт данных"
   ]
  },
  {
   "cell_type": "code",
   "execution_count": 4,
   "metadata": {},
   "outputs": [],
   "source": [
    "# Данные об оплате труда\n",
    "salary_location <- './data/salary.docx'\n",
    "salary_doc <- docxtractr::read_docx(salary_location)\n",
    "\n",
    "# Данные о занятости\n",
    "employment_location <- './data/employment.docx'\n",
    "employment_doc <- docxtractr::read_docx(employment_location)"
   ]
  },
  {
   "cell_type": "code",
   "execution_count": 5,
   "metadata": {},
   "outputs": [],
   "source": [
    "# Тема для визуализаций\n",
    "\n",
    "sex_colors_dark <- c('#C84E9E', '#4881A9')\n",
    "sex_colors_light <- c('#DB75B7', '#6FA2C6')\n",
    "\n",
    "viz_theme <- \n",
    "  theme(legend.position = 'none',\n",
    "        axis.text.x = element_blank(),\n",
    "        axis.ticks.x = element_blank(),\n",
    "        axis.text.y = element_blank(),\n",
    "        axis.ticks.y = element_blank(),\n",
    "        panel.background = element_rect(fill = '#FFF2D9'),\n",
    "        #plot.background = element_rect(fill = '#FFF4B3'),\n",
    "        panel.grid.major.y = element_line(colour = '#FFD788', size = .5),\n",
    "        panel.grid.major.x = element_blank(),\n",
    "        panel.grid.minor = element_blank(),\n",
    "        plot.title = element_text(face = 'bold'),\n",
    "        plot.subtitle = element_text(face = 'italic'),\n",
    "        text = element_text(size = 11))"
   ]
  },
  {
   "cell_type": "markdown",
   "metadata": {},
   "source": [
    "## Анализ"
   ]
  },
  {
   "cell_type": "code",
   "execution_count": 6,
   "metadata": {},
   "outputs": [
    {
     "data": {
      "text/html": [
       "<table>\n",
       "<caption>A tibble: 14 × 4</caption>\n",
       "<thead>\n",
       "\t<tr><th scope=col>field_ru</th><th scope=col>sex</th><th scope=col>salary</th><th scope=col>salary_label</th></tr>\n",
       "\t<tr><th scope=col>&lt;chr&gt;</th><th scope=col>&lt;fct&gt;</th><th scope=col>&lt;dbl&gt;</th><th scope=col>&lt;chr&gt;</th></tr>\n",
       "</thead>\n",
       "<tbody>\n",
       "\t<tr><td>По всем видам деятельности</td><td>Мужчины</td><td>161817</td><td>161 800</td></tr>\n",
       "\t<tr><td>Промышленность            </td><td>Мужчины</td><td>207492</td><td>207 500</td></tr>\n",
       "\t<tr><td>Строительство             </td><td>Мужчины</td><td>144780</td><td>144 800</td></tr>\n",
       "\t<tr><td>IT                        </td><td>Мужчины</td><td>214470</td><td>214 500</td></tr>\n",
       "\t<tr><td>Финансы                   </td><td>Мужчины</td><td>358143</td><td>358 100</td></tr>\n",
       "\t<tr><td>Образование               </td><td>Мужчины</td><td> 96986</td><td>97 000 </td></tr>\n",
       "\t<tr><td>Здравоохранение           </td><td>Мужчины</td><td>114551</td><td>114 600</td></tr>\n",
       "\t<tr><td>По всем видам деятельности</td><td>Женщины</td><td>119177</td><td>119 200</td></tr>\n",
       "\t<tr><td>Промышленность            </td><td>Женщины</td><td>147687</td><td>147 700</td></tr>\n",
       "\t<tr><td>Строительство             </td><td>Женщины</td><td>134254</td><td>134 300</td></tr>\n",
       "\t<tr><td>IT                        </td><td>Женщины</td><td>184496</td><td>184 500</td></tr>\n",
       "\t<tr><td>Финансы                   </td><td>Женщины</td><td>232772</td><td>232 800</td></tr>\n",
       "\t<tr><td>Образование               </td><td>Женщины</td><td> 96490</td><td>96 500 </td></tr>\n",
       "\t<tr><td>Здравоохранение           </td><td>Женщины</td><td>107277</td><td>107 300</td></tr>\n",
       "</tbody>\n",
       "</table>\n"
      ],
      "text/latex": [
       "A tibble: 14 × 4\n",
       "\\begin{tabular}{r|llll}\n",
       " field\\_ru & sex & salary & salary\\_label\\\\\n",
       " <chr> & <fct> & <dbl> & <chr>\\\\\n",
       "\\hline\n",
       "\t По всем видам деятельности & Мужчины & 161817 & 161 800\\\\\n",
       "\t Промышленность             & Мужчины & 207492 & 207 500\\\\\n",
       "\t Строительство              & Мужчины & 144780 & 144 800\\\\\n",
       "\t IT                         & Мужчины & 214470 & 214 500\\\\\n",
       "\t Финансы                    & Мужчины & 358143 & 358 100\\\\\n",
       "\t Образование                & Мужчины &  96986 & 97 000 \\\\\n",
       "\t Здравоохранение            & Мужчины & 114551 & 114 600\\\\\n",
       "\t По всем видам деятельности & Женщины & 119177 & 119 200\\\\\n",
       "\t Промышленность             & Женщины & 147687 & 147 700\\\\\n",
       "\t Строительство              & Женщины & 134254 & 134 300\\\\\n",
       "\t IT                         & Женщины & 184496 & 184 500\\\\\n",
       "\t Финансы                    & Женщины & 232772 & 232 800\\\\\n",
       "\t Образование                & Женщины &  96490 & 96 500 \\\\\n",
       "\t Здравоохранение            & Женщины & 107277 & 107 300\\\\\n",
       "\\end{tabular}\n"
      ],
      "text/markdown": [
       "\n",
       "A tibble: 14 × 4\n",
       "\n",
       "| field_ru &lt;chr&gt; | sex &lt;fct&gt; | salary &lt;dbl&gt; | salary_label &lt;chr&gt; |\n",
       "|---|---|---|---|\n",
       "| По всем видам деятельности | Мужчины | 161817 | 161 800 |\n",
       "| Промышленность             | Мужчины | 207492 | 207 500 |\n",
       "| Строительство              | Мужчины | 144780 | 144 800 |\n",
       "| IT                         | Мужчины | 214470 | 214 500 |\n",
       "| Финансы                    | Мужчины | 358143 | 358 100 |\n",
       "| Образование                | Мужчины |  96986 | 97 000  |\n",
       "| Здравоохранение            | Мужчины | 114551 | 114 600 |\n",
       "| По всем видам деятельности | Женщины | 119177 | 119 200 |\n",
       "| Промышленность             | Женщины | 147687 | 147 700 |\n",
       "| Строительство              | Женщины | 134254 | 134 300 |\n",
       "| IT                         | Женщины | 184496 | 184 500 |\n",
       "| Финансы                    | Женщины | 232772 | 232 800 |\n",
       "| Образование                | Женщины |  96490 | 96 500  |\n",
       "| Здравоохранение            | Женщины | 107277 | 107 300 |\n",
       "\n"
      ],
      "text/plain": [
       "   field_ru                   sex     salary salary_label\n",
       "1  По всем видам деятельности Мужчины 161817 161 800     \n",
       "2  Промышленность             Мужчины 207492 207 500     \n",
       "3  Строительство              Мужчины 144780 144 800     \n",
       "4  IT                         Мужчины 214470 214 500     \n",
       "5  Финансы                    Мужчины 358143 358 100     \n",
       "6  Образование                Мужчины  96986 97 000      \n",
       "7  Здравоохранение            Мужчины 114551 114 600     \n",
       "8  По всем видам деятельности Женщины 119177 119 200     \n",
       "9  Промышленность             Женщины 147687 147 700     \n",
       "10 Строительство              Женщины 134254 134 300     \n",
       "11 IT                         Женщины 184496 184 500     \n",
       "12 Финансы                    Женщины 232772 232 800     \n",
       "13 Образование                Женщины  96490 96 500      \n",
       "14 Здравоохранение            Женщины 107277 107 300     "
      ]
     },
     "metadata": {},
     "output_type": "display_data"
    }
   ],
   "source": [
    "# Зарплаты по отраслям и полу\n",
    "salary_field <- \n",
    "  docx_extract_tbl(salary_doc, 70) %>% \n",
    "  setNames(., c('field_kz', 'men', 'women', 'field_ru')) %>% \n",
    "  mutate_at(vars(contains('men')), ~salary_to_num(.)) %>% \n",
    "  select(-field_kz) %>% \n",
    "  select(field_ru, everything()) %>% \n",
    "  filter(!is.na(men),\n",
    "         field_ru %in% c('По всем видам деятельности',\n",
    "                         'Промышленность',\n",
    "                         'Строительство',\n",
    "                         'Информация и связь',\n",
    "                         'Финансовая и страховая деятельность',\n",
    "                         'Образование',\n",
    "                         'Здравоохранение и социальные услуги')) %>% \n",
    "  mutate(field_ru = recode(field_ru, \n",
    "                           'Информация и связь' = 'IT',\n",
    "                           'Финансовая и страховая деятельность' = 'Финансы',\n",
    "                           'Здравоохранение и социальные услуги' = 'Здравоохранение')) %>% \n",
    "  tidyr::gather(sex, salary, -field_ru) %>% \n",
    "  mutate(sex = recode(sex, 'men' = 'Мужчины', 'women' = 'Женщины'),\n",
    "         sex = reorder(sex, salary),\n",
    "         salary_label = scales::number(round(salary/1000, 1) * 1000));salary_field"
   ]
  },
  {
   "cell_type": "code",
   "execution_count": 7,
   "metadata": {},
   "outputs": [
    {
     "data": {
      "image/png": "[encoded data removed]",
      "text/plain": [
       "plot without title"
      ]
     },
     "metadata": {},
     "output_type": "display_data"
    }
   ],
   "source": [
    "# Зарплата по отраслям\n",
    "salary_field %>% \n",
    "  filter(field_ru != 'По всем видам деятельности') %>% \n",
    "  ggplot(aes(x = field_ru, y = salary, fill = sex)) +\n",
    "  geom_bar(stat = 'identity', position = 'dodge', color = 'black') +\n",
    "  scale_y_continuous(limits = c(0, 400000), breaks = seq(0, 400000, 50000), labels = k_formatter) +\n",
    "  scale_fill_manual(values = sex_colors_light) +\n",
    "  labs(x = '', y = '', fill = '') +\n",
    "  viz_theme +\n",
    "  theme(axis.text.x = element_text(),\n",
    "        axis.text.y = element_text())"
   ]
  },
  {
   "cell_type": "code",
   "execution_count": 8,
   "metadata": {},
   "outputs": [],
   "source": [
    "# Динамика ЗП\n",
    "\n",
    "salary_extract <- function(doc_num) {\n",
    "  docx_extract_tbl(salary_doc, doc_num) %>% \n",
    "    setNames(c('field_kz', c(2013:2017), 'field_ru')) %>% \n",
    "    slice(2)\n",
    "}\n",
    "\n",
    "salary_dynamics <- \n",
    "  rbind(salary_extract(72), salary_extract(73)) %>% \n",
    "  select(-contains('field')) %>% \n",
    "  mutate(sex = c('male', 'female')) %>% \n",
    "  tidyr::gather(year, salary, - sex) %>% \n",
    "  mutate(salary = salary_to_num(salary))\n",
    "\n",
    "woman_last_salary <- \n",
    "  salary_dynamics %>% \n",
    "  filter(sex == 'female') %>% \n",
    "  pull(salary) %>% \n",
    "  max()"
   ]
  },
  {
   "cell_type": "code",
   "execution_count": 9,
   "metadata": {},
   "outputs": [
    {
     "data": {
      "image/png": "[encoded data removed]",
      "text/plain": [
       "plot without title"
      ]
     },
     "metadata": {},
     "output_type": "display_data"
    }
   ],
   "source": [
    "# Средняя ЗП мужчин и женщин в 2017 году\n",
    "# иконки от monkik\n",
    "woman_banker <- \n",
    "  magick::image_read_svg('./icons/woman.svg', width = 150) %>% \n",
    "  grid::rasterGrob(., interpolate = T)\n",
    "\n",
    "man_banker <- \n",
    "  magick::image_read_svg('./icons/man.svg', width = 150) %>% \n",
    "  grid::rasterGrob(., interpolate = T)\n",
    "\n",
    "salary_dynamics %>% \n",
    "  filter(year == 2017) %>% \n",
    "  mutate(salary = round(salary / 1000) * 1000,\n",
    "         salary_label = scales::number(salary)) %>% \n",
    "  ggplot(aes(x = sex, y = salary, fill = sex)) +\n",
    "  geom_bar(stat = 'identity', position = 'dodge', width = .5, color = 'black', size = 1.5) +\n",
    "  geom_text(aes(label = salary_label), vjust = 2, size = 6, fontface = 'bold', col = '#FFFAFF') +\n",
    "  scale_y_continuous(label = k_formatter, limits = c(0, 220000)) + \n",
    "  scale_fill_manual(values = sex_colors_dark) + \n",
    "  labs(x = '', y = '') +\n",
    "  annotation_custom(woman_banker, ymin = 125000, ymax = 170000, xmin = .8, xmax = 1.2) +\n",
    "  annotation_custom(man_banker, ymin = 182782, ymax = 227782, xmin = 1.8, xmax = 2.2) +\n",
    "  viz_theme"
   ]
  },
  {
   "cell_type": "code",
   "execution_count": 10,
   "metadata": {},
   "outputs": [
    {
     "data": {
      "image/png": "[encoded data removed]",
      "text/plain": [
       "plot without title"
      ]
     },
     "metadata": {},
     "output_type": "display_data"
    }
   ],
   "source": [
    "# Динамика ЗП 2013-2017\n",
    "\n",
    "# иконка от freepik \n",
    "record <- \n",
    "  image_read_svg('./icons/record_sans.svg', width = 150) %>% \n",
    "  grid::rasterGrob(., interpolate = T)\n",
    "\n",
    "salary_dynamics %>% \n",
    "  mutate(sex = recode(sex, 'male' = 'Мужчины', 'female' = 'Женщины')) %>% \n",
    "  ggplot(aes(x = year, y = salary, color = sex, group = sex)) +\n",
    "  geom_point(size = 3) +\n",
    "  geom_line(size = 2) +\n",
    "  geom_hline(yintercept = woman_last_salary, color = '#C8AE1A', linetype = 'dashed', size = 1) +\n",
    "  annotation_custom(record, ymin = woman_last_salary + 2000, ymax = 140000, xmin = 0.35, xmax = 1) +\n",
    "  scale_y_continuous(#limits = c(50000, 200000), \n",
    "                     breaks = seq(50000, 200000, 25000), \n",
    "                     labels = k_formatter) +\n",
    "  scale_color_manual(values = sex_colors_dark) +\n",
    "  labs(x = '', y = '', color = '') +\n",
    "  viz_theme +\n",
    "  theme(#legend.position = 'bottom',\n",
    "        axis.text.x = element_text(),\n",
    "        axis.text.y = element_text(),\n",
    "        panel.grid.major.x = element_line(colour = '#FFD788', size = .5))"
   ]
  },
  {
   "cell_type": "code",
   "execution_count": 11,
   "metadata": {},
   "outputs": [
    {
     "data": {
      "image/png": "[encoded data removed]",
      "text/plain": [
       "plot without title"
      ]
     },
     "metadata": {},
     "output_type": "display_data"
    }
   ],
   "source": [
    "# ЗП по регионам с наибольшим разрывом\n",
    "\n",
    "salary_region <- \n",
    "  docx_extract_tbl(salary_doc, 165) %>% \n",
    "  setNames(c('region', paste0('Мужчины_', 2013:2017), paste0('Женщины_', 2013:2017))) %>% \n",
    "  filter(region != '') %>% \n",
    "  tidyr::gather(key, salary, -region) %>% \n",
    "  tidyr::separate(key, c('sex', 'year')) %>% \n",
    "  mutate_at(vars(sex, year), ~str_trim(.)) %>% \n",
    "  mutate(salary = salary_to_num(salary)) %>% \n",
    "  filter(year == '2017')\n",
    "\n",
    "salary_region %>% \n",
    "  filter(!str_detect(region, 'Республика')) %>% \n",
    "  mutate(region = ifelse(str_detect(region, '[[:space:]]'), str_replace(region, ' ', '\\n'), region)) %>% \n",
    "  group_by(region) %>%\n",
    "  mutate(gap = (max(salary) - min(salary)) / max(salary)) %>% \n",
    "  ungroup %>% \n",
    "  arrange(-gap) %>% \n",
    "  slice(1:10) %>% \n",
    "  mutate(region = reorder(region, -gap)) %>% \n",
    "  ggplot(aes(x = region, y = salary, fill = sex)) +\n",
    "  geom_bar(stat = 'identity', position = 'dodge', color = 'black', size = .5) +\n",
    "  scale_y_continuous(limits = c(0, 380000), breaks = seq(0, 380000, 50000), labels = k_formatter) +\n",
    "  scale_fill_manual(values = sex_colors_light) +\n",
    "  labs(x = '', y = '', fill = '') +\n",
    "  viz_theme +\n",
    "  theme(axis.text.x = element_text(),\n",
    "        axis.text.y = element_text())"
   ]
  },
  {
   "cell_type": "code",
   "execution_count": 12,
   "metadata": {},
   "outputs": [
    {
     "data": {
      "image/png": "[encoded data removed]",
      "text/plain": [
       "plot without title"
      ]
     },
     "metadata": {},
     "output_type": "display_data"
    }
   ],
   "source": [
    "# Занятость по должностям\n",
    "employment_position <- \n",
    "  docx_extract_tbl(employment_doc, 47, header = F) %>% \n",
    "  na_if('') %>% \n",
    "  select(6:7) %>% \n",
    "  slice(15:40) %>% \n",
    "  filter(!is.na(V6)) %>% \n",
    "  setNames(c('n', 'type')) %>% \n",
    "  mutate(sex = ifelse(row_number() <= 11, 'Мужчины', 'Женщины'),\n",
    "         n = str_remove_all(str_replace_all(n, ',', '.'), '[[:space:]]'),\n",
    "         n = as.numeric(n)) %>% \n",
    "  group_by(sex) %>% \n",
    "  filter(!str_detect(type, 'всего')) %>% \n",
    "  mutate(sum_n = sum(n),\n",
    "         share = n / sum_n,\n",
    "         type = str_trim(clean(type))) %>% \n",
    "  ungroup\n",
    "\n",
    "# Попытка построить waffle chart соотношения мужчин / женщин среди руководителей\n",
    "employment_position %>% \n",
    "  filter(str_detect(type, 'Руководители')) %>% \n",
    "  mutate(share = round(n/sum(n), 2) * 100) %>% \n",
    "  select(names = sex, vals = share) %>% \n",
    "  waffle(keep = F,\n",
    "         rows = 10,\n",
    "         glyph_size = 5,\n",
    "         colors = rev(sex_colors_light),\n",
    "         legend_pos = 'bottom',\n",
    "         glyph_font = 'FontAwesome',\n",
    "         glyph_font_family = 'FontAwesome',\n",
    "         use_glyph = 'user')"
   ]
  },
  {
   "cell_type": "code",
   "execution_count": 13,
   "metadata": {},
   "outputs": [
    {
     "data": {
      "text/html": [
       "<table>\n",
       "<caption>A tibble: 2 × 3</caption>\n",
       "<thead>\n",
       "\t<tr><th scope=col>Пол</th><th scope=col>Доля</th><th scope=col>Зарплата</th></tr>\n",
       "\t<tr><th scope=col>&lt;chr&gt;</th><th scope=col>&lt;chr&gt;</th><th scope=col>&lt;chr&gt;</th></tr>\n",
       "</thead>\n",
       "<tbody>\n",
       "\t<tr><td>Мужчины</td><td>63.3%</td><td>349 122</td></tr>\n",
       "\t<tr><td>Женщины</td><td>36.7%</td><td>231 356</td></tr>\n",
       "</tbody>\n",
       "</table>\n"
      ],
      "text/latex": [
       "A tibble: 2 × 3\n",
       "\\begin{tabular}{r|lll}\n",
       " Пол & Доля & Зарплата\\\\\n",
       " <chr> & <chr> & <chr>\\\\\n",
       "\\hline\n",
       "\t Мужчины & 63.3\\% & 349 122\\\\\n",
       "\t Женщины & 36.7\\% & 231 356\\\\\n",
       "\\end{tabular}\n"
      ],
      "text/markdown": [
       "\n",
       "A tibble: 2 × 3\n",
       "\n",
       "| Пол &lt;chr&gt; | Доля &lt;chr&gt; | Зарплата &lt;chr&gt; |\n",
       "|---|---|---|\n",
       "| Мужчины | 63.3% | 349 122 |\n",
       "| Женщины | 36.7% | 231 356 |\n",
       "\n"
      ],
      "text/plain": [
       "  Пол     Доля  Зарплата\n",
       "1 Мужчины 63.3% 349 122 \n",
       "2 Женщины 36.7% 231 356 "
      ]
     },
     "metadata": {},
     "output_type": "display_data"
    }
   ],
   "source": [
    "# ЗП руководителей в 2017\n",
    "salary_position <-\n",
    "  docx_extract_tbl(salary_doc, 79) %>%\n",
    "  setNames(., c('position_kz', 'all', 'men', 'women', 'position_ru')) %>%\n",
    "  mutate_at(vars(contains('men')), ~salary_to_num(.)) %>%\n",
    "  filter(!is.na(men)) %>%\n",
    "  select(position_ru, men, women) %>%\n",
    "  tidyr::gather(sex, salary, -position_ru) %>% \n",
    "  filter(str_detect(position_ru, 'руководител'))\n",
    "\n",
    "managers <- \n",
    "  employment_position %>% \n",
    "  filter(str_detect(type, 'Руководители')) %>% \n",
    "  mutate(share = scales::percent(n/sum(n))) %>% \n",
    "  select(sex = sex, share) %>% \n",
    "  inner_join(salary_position %>% \n",
    "               select(-position_ru) %>% \n",
    "               mutate(sex = recode(sex, 'men' = 'Мужчины', 'women' = 'Женщины'),\n",
    "                      salary = scales::number(salary)), by = 'sex') %>% \n",
    "  setNames(c('Пол', 'Доля', 'Зарплата')); managers"
   ]
  },
  {
   "cell_type": "code",
   "execution_count": 14,
   "metadata": {},
   "outputs": [
    {
     "data": {
      "text/html": [
       "<table>\n",
       "<caption>A tibble: 2 × 2</caption>\n",
       "<thead>\n",
       "\t<tr><th scope=col>sex</th><th scope=col>share</th></tr>\n",
       "\t<tr><th scope=col>&lt;chr&gt;</th><th scope=col>&lt;chr&gt;</th></tr>\n",
       "</thead>\n",
       "<tbody>\n",
       "\t<tr><td>Мужчины</td><td>2.6% </td></tr>\n",
       "\t<tr><td>Женщины</td><td>14.2%</td></tr>\n",
       "</tbody>\n",
       "</table>\n"
      ],
      "text/latex": [
       "A tibble: 2 × 2\n",
       "\\begin{tabular}{r|ll}\n",
       " sex & share\\\\\n",
       " <chr> & <chr>\\\\\n",
       "\\hline\n",
       "\t Мужчины & 2.6\\% \\\\\n",
       "\t Женщины & 14.2\\%\\\\\n",
       "\\end{tabular}\n"
      ],
      "text/markdown": [
       "\n",
       "A tibble: 2 × 2\n",
       "\n",
       "| sex &lt;chr&gt; | share &lt;chr&gt; |\n",
       "|---|---|\n",
       "| Мужчины | 2.6%  |\n",
       "| Женщины | 14.2% |\n",
       "\n"
      ],
      "text/plain": [
       "  sex     share\n",
       "1 Мужчины 2.6% \n",
       "2 Женщины 14.2%"
      ]
     },
     "metadata": {},
     "output_type": "display_data"
    }
   ],
   "source": [
    "# Доля уволившихся, которые указали причину Ведение домашнего хозяйства\n",
    "docx_extract_tbl(employment_doc, 59, header = F) %>% \n",
    "  na_if('') %>% \n",
    "  na_if('-') %>% \n",
    "  select(6:7) %>% \n",
    "  setNames(c('n', 'type')) %>% \n",
    "  filter(!is.na(n), !str_detect(type, 'всего')) %>% \n",
    "  slice(13:36) %>% \n",
    "  mutate(sex = ifelse(row_number() < 13, 'Мужчины', 'Женщины'),\n",
    "         n = str_remove_all(str_replace_all(n, ',', '.'), '[[:space:]]'),\n",
    "         n = as.numeric(n)) %>% \n",
    "  group_by(sex) %>% \n",
    "  mutate(sum_n = sum(n)) %>% \n",
    "  ungroup %>% \n",
    "  mutate(share = n/sum_n) %>% \n",
    "  filter(type == 'ведения домашнего хозяйства') %>% \n",
    "  select(sex, share) %>% \n",
    "  mutate(share = scales::percent(share))"
   ]
  },
  {
   "cell_type": "code",
   "execution_count": 15,
   "metadata": {},
   "outputs": [
    {
     "data": {
      "image/png": "[encoded data removed]",
      "text/plain": [
       "plot without title"
      ]
     },
     "metadata": {},
     "output_type": "display_data"
    }
   ],
   "source": [
    "# Сравнение Казахстана с другими странами по данным OECD в 2017 году\n",
    "\n",
    "kz_salary_gap <- \n",
    "  salary_dynamics %>% \n",
    "  filter(year == 2017)%>% \n",
    "  mutate(kz_gap = (max(salary) - min(salary))*100/max(salary)) %>% \n",
    "  pull(kz_gap) %>% unique\n",
    "\n",
    "codes_dict <- read.xlsx('./data/location_codes.xlsx')\n",
    "\n",
    "oecd <- \n",
    "  data.table::fread('./data/OECD_pay_gap.csv') %>% \n",
    "  select_all(tolower) %>% \n",
    "  filter(time == 2017, subject == 'EMPLOYEE', indicator == 'WAGEGAP', location != 'OECD') %>% \n",
    "  select(location, value) %>% \n",
    "  rbind(c('USSR-KAZ', kz_salary_gap)) %>% \n",
    "  mutate_at(vars(value), ~as.numeric(.)) %>% \n",
    "  left_join(codes_dict, by = 'location') %>% \n",
    "  select(country, value)\n",
    "\n",
    "oecd %>% \n",
    "  arrange(-value) %>% \n",
    "  mutate(country = reorder(country, value)) %>% \n",
    "  ggplot(aes(x = country, y = value)) +\n",
    "  geom_bar(stat = 'identity', fill = '#4881A9', width = .8) +\n",
    "  geom_text(aes(label = paste0(round(value), '%')), hjust = 1., size = 3.5, fontface = 'bold', color = 'white') +\n",
    "  coord_flip() +\n",
    "  labs(x = '', y = '') +\n",
    "  viz_theme +\n",
    "  theme(axis.text.y = element_text())\n"
   ]
  }
 ],
 "metadata": {
  "kernelspec": {
   "display_name": "R",
   "language": "R",
   "name": "ir"
  },
  "language_info": {
   "codemirror_mode": "r",
   "file_extension": ".r",
   "mimetype": "text/x-r-source",
   "name": "R",
   "pygments_lexer": "r",
   "version": "3.5.1"
  }
 },
 "nbformat": 4,
 "nbformat_minor": 2
}
